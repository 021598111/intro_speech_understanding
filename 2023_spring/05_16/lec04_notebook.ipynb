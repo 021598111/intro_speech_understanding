{
 "cells": [
  {
   "cell_type": "markdown",
   "id": "6a424b44",
   "metadata": {},
   "source": [
    "# Speech Understanding \n",
    "# Lecture 4: Dictionaries and Functions\n",
    "Based on Chapter 2: **Python Refresher** from https://nostarch.com/make-python-talk"
   ]
  },
  {
   "cell_type": "markdown",
   "id": "b3983e7c",
   "metadata": {},
   "source": [
    "### Mark Hasegawa-Johnson, KCGI, May 16, 2023"
   ]
  },
  {
   "cell_type": "markdown",
   "id": "ffa13a99",
   "metadata": {},
   "source": [
    "In this lecture, you will learn about dictionaries and functions.\n"
   ]
  },
  {
   "cell_type": "markdown",
   "id": "a638dcac",
   "metadata": {},
   "source": [
    "1. [Dictionaries](#section4)\n",
    "2. [Functions](#section5)\n",
    "3. [Modules](#section6)\n",
    "4. [Homework](#homework)"
   ]
  },
  {
   "cell_type": "markdown",
   "id": "d07dde63",
   "metadata": {},
   "source": [
    "<a id=\"section1\"></a>"
   ]
  },
  {
   "cell_type": "markdown",
   "id": "69daa20d",
   "metadata": {},
   "source": [
    "<a id=\"section4\"></a>"
   ]
  },
  {
   "cell_type": "markdown",
   "id": "1c5d4fcf",
   "metadata": {},
   "source": [
    "## 1 Dictionaries\n",
    "\n",
    "A `dict` is like a list, except that instead of being indexed by integers, you can use almost anything as the index.\n",
    "\n",
    "### 1.1 Creating Dictionaries, and Accessing Elements in a Dictionary\n",
    "\n",
    "* There is a special syntax to create a `dict`: you put `{` at the beginning, and `}` at the end.\n",
    "* Since the key for each element of a `dict` is up to you, you need to specify it.  This is done by writing a colon between pairs of `key` and `value`.\n",
    "* Once you have created a `dict` in this way, you can use the `key` to access the `value`."
   ]
  },
  {
   "cell_type": "code",
   "execution_count": 34,
   "id": "287bdddc",
   "metadata": {},
   "outputs": [
    {
     "name": "stdout",
     "output_type": "stream",
     "text": [
      "{0: 'this is value number #0', 'some key': 35}\n",
      "35\n"
     ]
    }
   ],
   "source": [
    "dict1 = { 0: \"this is value number #0\", \"some key\" : 35 }\n",
    "print(dict1)\n",
    "\n",
    "#print(dict1[0])\n",
    "print(dict1[\"some key\"])"
   ]
  },
  {
   "cell_type": "markdown",
   "id": "710ed6a1",
   "metadata": {},
   "source": [
    "### 1.2 Use Dictionary Methods\n",
    "\n",
    "One of the most useful things to do with a dictionary is to iterate over its elements.  Here are the three iterators:\n",
    "\n",
    "* `.keys()` gives you an iterator over the dictionary's keys\n",
    "* `.values()` gives you an iterator over the dictionary's values\n",
    "* `.items()` gives you an iterator over (key, value) tuples"
   ]
  },
  {
   "cell_type": "code",
   "execution_count": 35,
   "id": "ebe265b3",
   "metadata": {},
   "outputs": [
    {
     "name": "stdout",
     "output_type": "stream",
     "text": [
      "Key number  0  is  0\n",
      "Key number  1  is  some key\n"
     ]
    }
   ],
   "source": [
    "for n, k in enumerate(dict1.keys()):\n",
    "    print(\"Key number \", n, \" is \", k)"
   ]
  },
  {
   "cell_type": "code",
   "execution_count": 36,
   "id": "fb07ca8c",
   "metadata": {},
   "outputs": [
    {
     "name": "stdout",
     "output_type": "stream",
     "text": [
      "Value number  0  is  this is value number #0\n",
      "Value number  1  is  35\n"
     ]
    }
   ],
   "source": [
    "for n, k in enumerate(dict1.values()):\n",
    "    print(\"Value number \", n, \" is \", k)"
   ]
  },
  {
   "cell_type": "code",
   "execution_count": 37,
   "id": "53310080",
   "metadata": {},
   "outputs": [
    {
     "name": "stdout",
     "output_type": "stream",
     "text": [
      "Item number  0  is  (0, 'this is value number #0')\n",
      "Item number  1  is  ('some key', 35)\n"
     ]
    }
   ],
   "source": [
    "for n, k in enumerate(dict1.items()):\n",
    "    print(\"Item number \", n, \" is \", k)"
   ]
  },
  {
   "cell_type": "markdown",
   "id": "0452afae",
   "metadata": {},
   "source": [
    "<a id=\"section5\"></a>"
   ]
  },
  {
   "cell_type": "markdown",
   "id": "fca1e634",
   "metadata": {},
   "source": [
    "## 2  Functions"
   ]
  },
  {
   "cell_type": "markdown",
   "id": "aeb3a1dd",
   "metadata": {},
   "source": [
    "### 2 Built-In Functions\n",
    "\n",
    "The built-in functions are listed here: https://docs.python.org/3/library/functions.html\n",
    "\n",
    "A useful one that we haven't seen before is `input`.  `input` is used to ask the user for a string."
   ]
  },
  {
   "cell_type": "code",
   "execution_count": 87,
   "id": "56e91dfb",
   "metadata": {},
   "outputs": [
    {
     "name": "stdout",
     "output_type": "stream",
     "text": [
      "Please type a stringhello\n",
      "You typed hello\n"
     ]
    }
   ],
   "source": [
    "\n",
    "s = input(\"Please type a string\")\n",
    "print(\"You typed\", s)"
   ]
  },
  {
   "cell_type": "markdown",
   "id": "20a5a05f",
   "metadata": {},
   "source": [
    "### 2.2 Define Your Own Functions\n",
    "\n",
    "If you want to define your own function, you use the `def` command to do so:\n",
    "* Start a line with `def`, then the name of the function (and its parameters), then :\n",
    "* Indent the next line.  All following indented lines will be part of the function definition.\n",
    "* Any line that's **not** indented will end the function definition."
   ]
  },
  {
   "cell_type": "code",
   "execution_count": 38,
   "id": "ef501a8d",
   "metadata": {},
   "outputs": [
    {
     "name": "stdout",
     "output_type": "stream",
     "text": [
      "This line is not part of the function definition\n"
     ]
    }
   ],
   "source": [
    "def my_first_function(promptstring):\n",
    "    \"\"\"\n",
    "    This is a function that prompts the user for input, and then shows them what they typed.\n",
    "    \"\"\"\n",
    "    s = input(promptstring)\n",
    "    print(\"\")\n",
    "    print(\"You typed\", s)\n",
    "    \n",
    "print(\"This line is not part of the function definition\")"
   ]
  },
  {
   "cell_type": "markdown",
   "id": "b3ee435a",
   "metadata": {},
   "source": [
    "If you type `help(my_first_function)`, you will see the `docstring` that you put at the beginning of the function:"
   ]
  },
  {
   "cell_type": "code",
   "execution_count": 39,
   "id": "bede41c1",
   "metadata": {},
   "outputs": [
    {
     "name": "stdout",
     "output_type": "stream",
     "text": [
      "Help on function my_first_function in module __main__:\n",
      "\n",
      "my_first_function(promptstring)\n",
      "    This is a function that prompts the user for input, and then shows them what they typed.\n",
      "\n"
     ]
    }
   ],
   "source": [
    "help(my_first_function)"
   ]
  },
  {
   "cell_type": "markdown",
   "id": "a3b1271e",
   "metadata": {},
   "source": [
    "* In order to call the function, just type its name, then parentheses.\n",
    "* If the function has any parameters, be sure to tell it what values to use!"
   ]
  },
  {
   "cell_type": "code",
   "execution_count": 40,
   "id": "d031942d",
   "metadata": {},
   "outputs": [
    {
     "name": "stdout",
     "output_type": "stream",
     "text": [
      "Please type something:   \n",
      "\n",
      "You typed \n"
     ]
    }
   ],
   "source": [
    "my_first_function(\"Please type something:   \")"
   ]
  },
  {
   "cell_type": "markdown",
   "id": "333db217",
   "metadata": {},
   "source": [
    "If you want your function to have a return value, you simply need to specify that using the `return` command.  "
   ]
  },
  {
   "cell_type": "code",
   "execution_count": 41,
   "id": "6cbad605",
   "metadata": {},
   "outputs": [],
   "source": [
    "def my_second_function(promptstring):\n",
    "    \"\"\"\n",
    "    This is a function that prompts the user for input, and then returns their input.\n",
    "    \"\"\"\n",
    "    s = input(promptstring)\n",
    "    return s"
   ]
  },
  {
   "cell_type": "code",
   "execution_count": 42,
   "id": "75a91b91",
   "metadata": {},
   "outputs": [
    {
     "name": "stdout",
     "output_type": "stream",
     "text": [
      "Please type something:\n"
     ]
    }
   ],
   "source": [
    "x = my_second_function(\"Please type something:\")\n",
    "\n"
   ]
  },
  {
   "cell_type": "code",
   "execution_count": 43,
   "id": "905b1f7a",
   "metadata": {},
   "outputs": [
    {
     "name": "stdout",
     "output_type": "stream",
     "text": [
      "\n"
     ]
    }
   ],
   "source": [
    "print(x)"
   ]
  },
  {
   "cell_type": "markdown",
   "id": "3fe766f9",
   "metadata": {},
   "source": [
    "<a id=\"section6\"></a>"
   ]
  },
  {
   "cell_type": "markdown",
   "id": "eee84632",
   "metadata": {},
   "source": [
    "## 3. Modules\n"
   ]
  },
  {
   "cell_type": "markdown",
   "id": "b04f7374",
   "metadata": {},
   "source": [
    "* Last time, we saw how to define our own module, and import it using the `import` command\n",
    "* The **main reason** python is so popular is because there are a **huge** number of modules available\n",
    "* Every installation of python comes with the modules listed in the standard library: https://docs.python.org/3/library/\n",
    "* In addition, anaconda also includes these modules: https://towardsdatascience.com/an-overview-of-the-anaconda-distribution-9479ff1859e6\n",
    "* If you find a module online (for example, at https://pypi.org/), and want to install it, usually you just need to go to a terminal, and type `pip install <packagename>`.\n",
    "\n",
    "For example, you can use the `math` module to get mathematical operations:"
   ]
  },
  {
   "cell_type": "code",
   "execution_count": 107,
   "id": "d765f00a",
   "metadata": {},
   "outputs": [
    {
     "name": "stdout",
     "output_type": "stream",
     "text": [
      "The cosine of pi/6 is  0.8660254037844387\n"
     ]
    }
   ],
   "source": [
    "import math\n",
    "\n",
    "print(\"The cosine of pi/6 is \", math.cos(math.pi/6))"
   ]
  },
  {
   "cell_type": "markdown",
   "id": "8ad9ad00",
   "metadata": {},
   "source": [
    "<a id=\"homework\"></a>"
   ]
  },
  {
   "cell_type": "markdown",
   "id": "4e6b32d4",
   "metadata": {},
   "source": [
    "## Homework 3"
   ]
  },
  {
   "cell_type": "markdown",
   "id": "7a9eeaa5",
   "metadata": {},
   "source": [
    "Homework will be autograded on Gradescope.\n",
    "\n",
    "In this directory, there is a file called `homework3.py`.  It contains 4 functions.  Each function has a complete docstring, but no content: instead of content, each function just has a single line with the do-nothing command `pass`.  In each function, replace the line `pass` with code that implements what the docstring says it should implement.\n"
   ]
  },
  {
   "cell_type": "markdown",
   "id": "cfdd19d7",
   "metadata": {},
   "source": [
    "## Homework Problem 3.1"
   ]
  },
  {
   "cell_type": "code",
   "execution_count": 1,
   "id": "c1361dec",
   "metadata": {},
   "outputs": [
    {
     "name": "stdout",
     "output_type": "stream",
     "text": [
      "Help on function cancellation in module homework3:\n",
      "\n",
      "cancellation(list, stop_word)\n",
      "    Copy elements one by one from input_list into output_list. \n",
      "    If one of the elements is equal to the stop_word, then stop the function,\n",
      "    and return what you have so far.\n",
      "\n"
     ]
    }
   ],
   "source": [
    "import homework3, importlib\n",
    "importlib.reload(homework3)\n",
    "help(homework3.cancellation)"
   ]
  },
  {
   "cell_type": "markdown",
   "id": "0da0f3b8",
   "metadata": {},
   "source": [
    "The function `cancellation(input_list, stop_word)` should create an empty list called `output_list`.  Then it should copy elements one by one from `input_list` into `output_list` (hint: use a for loop).  If one of the elements is equal to the `stop_word`, then you should stop the function, and return what you have so far (hint: you can use `break` for this.  There are also other ways to do it).\n",
    "\n",
    "Usage example:\n",
    "\n",
    "* `cancellation([3, 4, 5, 6, 7, 8], 2)` should return `[3, 4, 5, 6, 7, 8]`.\n",
    "* `cancellation([3, 4, 5, 6, 7, 8], 6)` should return `[3, 4, 5]`.\n",
    "* `cancellation([3.14, \"a\", True, \"b\", 7, -45.3], \"b\")` should return `[3.14, \"a\", True]`\n",
    "* `cancellation([\"a\", \"b\", \"c\"], \"a\")` should return `[]`\n",
    "* `cancellation([], \"a\")` should return `[]`\n",
    "\n",
    "Test your code here:\n"
   ]
  },
  {
   "cell_type": "code",
   "execution_count": 50,
   "id": "1d13dc5f",
   "metadata": {},
   "outputs": [
    {
     "name": "stdout",
     "output_type": "stream",
     "text": [
      "None\n",
      "None\n",
      "None\n",
      "None\n",
      "None\n"
     ]
    }
   ],
   "source": [
    "import homework3, importlib\n",
    "importlib.reload(homework3)\n",
    "print(homework3.cancellation([3, 4, 5, 6, 7, 8], 2))\n",
    "print(homework3.cancellation([3, 4, 5, 6, 7, 8], 6))\n",
    "print(homework3.cancellation([3.14, \"a\", True, \"b\", 7, -45.3], \"b\") )\n",
    "print(homework3.cancellation([\"a\", \"b\", \"c\"], \"a\") )\n",
    "print(homework3.cancellation([], \"a\") )"
   ]
  },
  {
   "cell_type": "markdown",
   "id": "2bc43f17",
   "metadata": {},
   "source": [
    "### Homework Problem 3.2"
   ]
  },
  {
   "cell_type": "code",
   "execution_count": 51,
   "id": "6ce3a132",
   "metadata": {},
   "outputs": [
    {
     "name": "stdout",
     "output_type": "stream",
     "text": [
      "Help on function copy_all_but_skip_word in module homework3:\n",
      "\n",
      "copy_all_but_skip_word(input_list, skip_word)\n",
      "    This function should copy elements one by one from input_list into output_list.\n",
      "    If one of the elements is equal to the skip_word, then you should skip that element,\n",
      "    but keep checking all of the other elements.\n",
      "\n"
     ]
    }
   ],
   "source": [
    "importlib.reload(homework3)\n",
    "help(homework3.copy_all_but_skip_word)"
   ]
  },
  {
   "cell_type": "markdown",
   "id": "d8a2ce2e",
   "metadata": {},
   "source": [
    "Create a function called `copy_all_but_skip_word(input_list, skip_word)`.  Your function should create an empty list called `output_list`.  Then it should copy elements one by one from `input_list` into `output_list` (hint: use a for loop).  If one of the elements is equal to the `skip_word`, then you should skip that element, but keep checking all of the other elements. \n",
    "\n",
    "Usage example:\n",
    "\n",
    "* `copy_all_but_skip_word([3, 4, 5, 6, 7, 8, 3, 4, 5], 2)` should return `[3, 4, 5, 6, 7, 8, 3, 4, 5]`.\n",
    "* `copy_all_but_skip_word([3.14, 4, \"a\", 6, 7, \"b\", 3, 4, 5], 6)` should return `[3.14, 4, \"a\", 7, \"b\", 3, 4, 5]`.\n",
    "* `copy_all_but_skip_word([3, \"a\", 5, 6, 7, \"b\", 3, \"b\", 5], \"a\")` should return `[3, 5, 6, 7, \"b\", 3, 5]`.\n",
    "* `copy_all_but_skip_word([\"a\", \"a\", \"a\"], \"a\")` should return `[]`\n",
    "* `copy_all_but_skip_word([], \"a\")` should return `[]`\n",
    "\n",
    "Test your code here:"
   ]
  },
  {
   "cell_type": "code",
   "execution_count": 52,
   "id": "dbd444dd",
   "metadata": {},
   "outputs": [
    {
     "name": "stdout",
     "output_type": "stream",
     "text": [
      "None\n",
      "None\n",
      "None\n",
      "None\n",
      "None\n"
     ]
    }
   ],
   "source": [
    "import homework3, importlib\n",
    "importlib.reload(homework3)\n",
    "\n",
    "print(homework3.copy_all_but_skip_word([3, 4, 5, 6, 7, 8, 3, 4, 5], 2))\n",
    "print(homework3.copy_all_but_skip_word([3.14, 4, \"a\", 6, 7, \"b\", 3, 4, 5], 6))\n",
    "print(homework3.copy_all_but_skip_word([3, \"a\", 5, 6, 7, \"b\", 3, \"b\", 5], \"a\"))\n",
    "print(homework3.copy_all_but_skip_word([\"a\", \"a\", \"a\"], \"a\"))\n",
    "print(homework3.copy_all_but_skip_word([], \"a\") )\n"
   ]
  },
  {
   "cell_type": "markdown",
   "id": "ed43922e",
   "metadata": {},
   "source": [
    "### Homework Problem 3.3"
   ]
  },
  {
   "cell_type": "code",
   "execution_count": 53,
   "id": "a8456bf1",
   "metadata": {},
   "outputs": [
    {
     "name": "stdout",
     "output_type": "stream",
     "text": [
      "Help on function my_average in module homework3:\n",
      "\n",
      "my_average(input_list)\n",
      "    You may assume that `input_list` is a non-empty list, in which every element is a number.  \n",
      "    Calculate the average value, and return it.\n",
      "\n"
     ]
    }
   ],
   "source": [
    "importlib.reload(homework3)\n",
    "help(homework3.my_average)"
   ]
  },
  {
   "cell_type": "markdown",
   "id": "197aa17d",
   "metadata": {},
   "source": [
    "Create a function called `my_average(input_list)`.  You may assume that `input_list` is a non-empty list, in which every element is a number.  Calculate the average value, and return it. \n",
    "\n",
    "Usage examples:\n",
    "\n",
    "* `my_average([84, 61, 99])` should return `81.333333333`\n",
    "* `my_average([ 0.31147488, -0.18365408,  0.27358631, 5])` should return `1.350351775289537`\n",
    "* `my_average([])` --- this case will never occur, so you need not address it\n",
    "* `my_average([1, 2.4, \"a\"]` --- this case will never occur, so you need not address it\n",
    "\n",
    "Warning: \n",
    "* This can be done without importing any modules, however...\n",
    "* If you want to import any modules in the [standard library](https://docs.python.org/3/library/) (e.g., [math](https://docs.python.org/3/library/math.html)), you may.\n",
    "* Please **do not use** `numpy`.  It will not be available on the autograder, so if you try to use it, your code will fail.\n",
    "* Don't use the word `sum` as the name of any of your variables; it is a reserved keyword.\n",
    "\n",
    "Test your code here:"
   ]
  },
  {
   "cell_type": "code",
   "execution_count": 54,
   "id": "00962b42",
   "metadata": {},
   "outputs": [
    {
     "name": "stdout",
     "output_type": "stream",
     "text": [
      "None\n",
      "None\n"
     ]
    }
   ],
   "source": [
    "import homework3, importlib\n",
    "importlib.reload(homework3)\n",
    "\n",
    "print(homework3.my_average([84, 61, 99]))\n",
    "print(homework3.my_average([ 0.31147488, -0.18365408,  0.27358631, 5]))"
   ]
  },
  {
   "cell_type": "markdown",
   "id": "c8478ca2",
   "metadata": {},
   "source": [
    "### Homework Problem 3.4"
   ]
  },
  {
   "cell_type": "code",
   "execution_count": 55,
   "id": "bceeb748",
   "metadata": {},
   "outputs": [
    {
     "name": "stdout",
     "output_type": "stream",
     "text": [
      "Help on function list_to_dict in module homework3:\n",
      "\n",
      "list_to_dict(input_list)\n",
      "    This function should return a dictionary in which each element of \n",
      "    `input_list` is a value, and the corresponding key is the numerical \n",
      "    index of that element in `input_list`.\n",
      "\n"
     ]
    }
   ],
   "source": [
    "importlib.reload(homework3)\n",
    "help(homework3.list_to_dict)"
   ]
  },
  {
   "cell_type": "markdown",
   "id": "ab7214ef",
   "metadata": {},
   "source": [
    "Create a function called `list_to_dict(input_list)`.  Your function should return a dictionary in which each element of `input_list` is a value, and the corresponding key is the numerical index of that element in `input_list`. \n",
    "\n",
    "Usage examples:\n",
    "\n",
    "* `list_to_dict([1, 3.14, \"hello\", True])` should return `{ 0:1, 1:3.14, 2:\"hello\", 3:True }`.\n",
    "* `list_to_dict([\"a\", \"a\", \"a\"])` should return `{0:\"a\", 1:\"a\", 2:\"a\"}`\n",
    "* `list_to_dict([])` should return `{}`\n",
    "\n",
    "Test your code here:"
   ]
  },
  {
   "cell_type": "code",
   "execution_count": 56,
   "id": "79abae8f",
   "metadata": {},
   "outputs": [
    {
     "name": "stdout",
     "output_type": "stream",
     "text": [
      "None\n",
      "None\n",
      "None\n"
     ]
    }
   ],
   "source": [
    "import homework3, importlib\n",
    "importlib.reload(homework3)\n",
    "\n",
    "print(homework3.list_to_dict([1, 3.14, \"hello\", True]))\n",
    "print(homework3.list_to_dict([\"a\", \"a\", \"a\"]))\n",
    "print(homework3.list_to_dict([]))\n"
   ]
  },
  {
   "cell_type": "code",
   "execution_count": null,
   "id": "812b593e",
   "metadata": {},
   "outputs": [],
   "source": []
  }
 ],
 "metadata": {
  "kernelspec": {
   "display_name": "Python 3 (ipykernel)",
   "language": "python",
   "name": "python3"
  },
  "language_info": {
   "codemirror_mode": {
    "name": "ipython",
    "version": 3
   },
   "file_extension": ".py",
   "mimetype": "text/x-python",
   "name": "python",
   "nbconvert_exporter": "python",
   "pygments_lexer": "ipython3",
   "version": "3.10.9"
  }
 },
 "nbformat": 4,
 "nbformat_minor": 5
}
