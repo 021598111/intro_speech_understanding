{
 "cells": [
  {
   "cell_type": "markdown",
   "id": "6a424b44",
   "metadata": {},
   "source": [
    "# Introduction to Speech Understanding\n",
    "### Mark Hasegawa-Johnson"
   ]
  },
  {
   "cell_type": "markdown",
   "id": "b3983e7c",
   "metadata": {},
   "source": [
    "## Lecture 1: Downloading the Necessary Software\n"
   ]
  },
  {
   "cell_type": "markdown",
   "id": "ffa13a99",
   "metadata": {},
   "source": [
    "Welcome to the KCGI course \"Introduction to Speech Understanding!\"\n",
    "\n",
    "In today's lecture, you will learn how to download and run the software tools that you will need for this course.\n"
   ]
  },
  {
   "cell_type": "markdown",
   "id": "2b8aca9b",
   "metadata": {},
   "source": [
    "Here are the contents:\n",
    "1. [Youtube](#section1)\n",
    "1. [Anaconda](#section2)\n",
    "1. [Github](#section3)\n",
    "1. [Gradescope](#section4)\n",
    "1. [Homework](#homework)"
   ]
  },
  {
   "cell_type": "markdown",
   "id": "3c171e07",
   "metadata": {},
   "source": [
    "<a id='section1'></a>"
   ]
  },
  {
   "cell_type": "markdown",
   "id": "2cc1f1a1",
   "metadata": {},
   "source": [
    "## 1. Youtube"
   ]
  },
  {
   "cell_type": "markdown",
   "id": "b20f8752",
   "metadata": {},
   "source": [
    "The lectures for this course will be held in real time on zoom; the zoom URL has been provided to you on Canvas.  After each lecture is completed, it will be uploaded to Youtube, so you can watch it again as often as necessary.\n",
    "\n",
    "The youtube playlist is here: https://www.youtube.com/playlist?list=PLxkQDK3LmM2EBpj9rwfzHGUZEpSYxTP6B\n",
    "\n"
   ]
  },
  {
   "cell_type": "markdown",
   "id": "3c3b13b0",
   "metadata": {},
   "source": [
    "<a id='section2'></a>"
   ]
  },
  {
   "cell_type": "markdown",
   "id": "c958c9dc",
   "metadata": {},
   "source": [
    "## 2. Anaconda\n",
    "\n",
    "All homework for this course will use python, so you need to install python.  If you have never used python before, you should install it from https://anaconda.com.  That will install many packages that you need including Jupyter (https://docs.jupyter.org/) and numpy (https://numpy.org/).\n",
    "\n",
    "Just go to the anaconda web page (https://www.anaconda.com/), click the **Download** button.  Once you have downloaded the installer, click on it, and follow the instructions to install it."
   ]
  },
  {
   "cell_type": "markdown",
   "id": "ce6fa9c1",
   "metadata": {},
   "source": [
    "### 2.1 Using the anaconda terminal and the conda package manager\n",
    "\n",
    "Python is useful because, no matter what you want to do, somebody has already done it, and their code is distributed as a **package**.  There are two useful package installers: `conda`, and `pip`.  Both of them require you to open a terminal in anaconda.\n",
    "\n",
    "Go to this page, and follow its instructions to open an anaconda terminal: https://conda.io/projects/conda/en/latest/user-guide/getting-started.html\n",
    "\n",
    "As shown there, run `conda update conda` in order to make sure you have the newest version."
   ]
  },
  {
   "cell_type": "markdown",
   "id": "854fd561",
   "metadata": {},
   "source": [
    "<a id='section3'></a>"
   ]
  },
  {
   "cell_type": "markdown",
   "id": "0e066b12",
   "metadata": {},
   "source": [
    "## 3. Github"
   ]
  },
  {
   "cell_type": "markdown",
   "id": "d433bb18",
   "metadata": {},
   "source": [
    "Software for this course will be distributed from the site:\n",
    "\n",
    "https://github.com/jhasegaw/intro_speech_understanding/\n",
    "\n",
    "The easiest way to use this site is to use git.   If you do not already have git installed, you can install it directly using `conda`, with the instructions shown here:\n",
    "\n",
    "https://anaconda.org/anaconda/git\n",
    "\n",
    "\n"
   ]
  },
  {
   "cell_type": "markdown",
   "id": "a139b705",
   "metadata": {},
   "source": [
    "### 3.1 Cloning the class git repository\n",
    "\n",
    "The easiest way to do the homework in this course is by cloning the git repository.  Open an anaconda terminal, or any other terminal, then type\n",
    "\n",
    "```\n",
    "git clone https://github.com/jhasegaw/intro_speech_understanding/\n",
    "cd intro_speech_understanding\n",
    "ls\n",
    "cd 2023_spring\n",
    "ls\n",
    "cd 04_18\n",
    "ls\n",
    "```\n",
    "\n",
    "In this directory, you will see all of the files that are relevant for the 04/18 lecture (today)."
   ]
  },
  {
   "cell_type": "markdown",
   "id": "c5cfe677",
   "metadata": {},
   "source": [
    "### 3.2 Using the Jupyter Notebook\n",
    "\n",
    "In order to follow the lectures, you should learn how to use a Jupyter notebook.\n",
    "\n",
    "A **Jupyter notebook** is an interactive python programming session that runs in your web browser.  There is a python interpreter running in the background, that interprets all of your commands, and prints the results.\n"
   ]
  },
  {
   "cell_type": "markdown",
   "id": "e2962e63",
   "metadata": {},
   "source": [
    "A Jupyter notebook is a file that ends in the extension `.ipynb`.  In some environments, you might be able to just double-click on such a file, but that has never worked for me.  Instead, I recommend the following method:\n",
    "\n",
    "1. Open a command prompt or terminal.  If you've never done that, here are instructions: \n",
    "\n",
    "* How to open a Command Prompt or Powershell in Windows: https://www.howtogeek.com/235101/10-ways-to-open-the-command-prompt-in-windows-10/\n",
    "* How to open a Terminal on a Mac: https://support.apple.com/guide/terminal/open-or-quit-terminal-apd5265185d-f365-44cb-8b09-71a064a42125/mac\n",
    "* How to open a command prompt on Linux: https://ubuntu.com/tutorials/command-line-for-beginners#3-opening-a-terminal\n",
    "\n",
    "2. Once you have your command prompt open, use cd (https://appletoolbox.com/navigate-folders-using-the-mac-terminal/) or chdir (https://www.computerhope.com/chdirhlp.htm) to get to the folder `intro_speech_understanding/2023_spring/04_18`, where this file is stored.\n",
    "\n",
    "3. Once you are in the right folder, type\n",
    "\n",
    "`jupyter notebook`\n",
    "\n",
    "That should automatically cause the Jupyter browswer to start running in a window on your default web browser.\n",
    "\n",
    "4. In the Jupyter browser, you'll see the file `04_18_notebook.ipynb`.  Double-click to open it.  Don't click on the `html` file -- that one does not allow you to run the python code live in the browser window.\n",
    "\n",
    "For more help on this, please see: https://docs.jupyter.org/en/latest/running.html"
   ]
  },
  {
   "cell_type": "markdown",
   "id": "d00ff11c",
   "metadata": {},
   "source": [
    "A Jupyter notebook has two main types of windows:\n",
    "\n",
    "1. **Markdown** windows are like this one.  They contain text, which is formatted using a very simple formatting language called markdown.  Find more information about markdown here: https://medium.com/analytics-vidhya/the-ultimate-markdown-guide-for-jupyter-notebook-d5e5abf728fd.  \n",
    "\n",
    "If you double-click on a markdown window, the text will convert from **formatted** to **unformatted**, and then you can edit it.   Hit `shift-return` (hit the return key while holding the shift key) in order to return to **formatted** text.\n",
    "\n",
    "\n",
    "2. **Code** windows contain python code.\n",
    "\n",
    "The window immediately after this one is a `code` window.  Notice how its background is gray, instead of white.\n",
    "\n",
    "Copy the text `print(\"Hello world\")` into the next window, then hit `shift-return`.  You should see the text `Hello world` printed, in response, just below the window."
   ]
  },
  {
   "cell_type": "code",
   "execution_count": null,
   "id": "abb4823b",
   "metadata": {},
   "outputs": [],
   "source": []
  },
  {
   "cell_type": "markdown",
   "id": "8193111d",
   "metadata": {},
   "source": [
    "### 3.3 Python Source Code Files"
   ]
  },
  {
   "cell_type": "markdown",
   "id": "9e8515b1",
   "metadata": {},
   "source": [
    "As shown above, you can type python directly into Jupyter **Code** windows, to see the result.  You can also create separate python program files, which can be run outside of Jupyter.  \n",
    "\n",
    "In the directory `intro_speech_understanding/2023_spring/04_18`, you can see one such file, called `submitted.py`.  Double-click it.  You will see an editable window that you can run.  \n",
    "\n",
    "Add the line `print(\"Hello world\")` at the top of that file, then run the **code** block below.\n"
   ]
  },
  {
   "cell_type": "code",
   "execution_count": 1,
   "id": "7b723cc8",
   "metadata": {},
   "outputs": [],
   "source": [
    "import submitted"
   ]
  },
  {
   "cell_type": "markdown",
   "id": "92077d02",
   "metadata": {},
   "source": [
    "Did it print `Hello world`?  If not, you may need to use `importlib` to reload it, as shown here:"
   ]
  },
  {
   "cell_type": "code",
   "execution_count": 2,
   "id": "a138582e",
   "metadata": {},
   "outputs": [
    {
     "data": {
      "text/plain": [
       "<module 'submitted' from '/Users/jhasegaw/Dropbox/mark/teaching/kcgi/intro_speech_understanding/2023_fall/lec01/submitted.py'>"
      ]
     },
     "execution_count": 2,
     "metadata": {},
     "output_type": "execute_result"
    }
   ],
   "source": [
    "import importlib\n",
    "importlib.reload(submitted)"
   ]
  },
  {
   "cell_type": "markdown",
   "id": "72df717d",
   "metadata": {},
   "source": [
    "We can get help by typing `help`:"
   ]
  },
  {
   "cell_type": "code",
   "execution_count": 3,
   "id": "5a8263b5",
   "metadata": {},
   "outputs": [
    {
     "name": "stdout",
     "output_type": "stream",
     "text": [
      "Help on module submitted:\n",
      "\n",
      "NAME\n",
      "    submitted\n",
      "\n",
      "FUNCTIONS\n",
      "    generate_pure_tone(frequency, sample_rate, duration)\n",
      "        Generate a pure tone at the specified frequency, sampling rate, and duration.\n",
      "        \n",
      "        @parameter:\n",
      "        frequency (scalar) - the frequency of the pure tone, in Hertz\n",
      "        sample_rate (scalar) - how many samples per second?\n",
      "        duration (scalar) - the duration of the pure tone, in seconds\n",
      "        \n",
      "        @return:\n",
      "        x (array) - the pure tone signal\n",
      "\n",
      "FILE\n",
      "    /Users/jhasegaw/Dropbox/mark/teaching/kcgi/intro_speech_understanding/2023_fall/lec01/submitted.py\n",
      "\n",
      "\n"
     ]
    }
   ],
   "source": [
    "help(submitted)"
   ]
  },
  {
   "cell_type": "markdown",
   "id": "74e37f67",
   "metadata": {},
   "source": [
    "The file `submitted.py` defines a function called `generate_pure_tone`.  Let's learn about that function:"
   ]
  },
  {
   "cell_type": "code",
   "execution_count": 4,
   "id": "86351c48",
   "metadata": {},
   "outputs": [
    {
     "name": "stdout",
     "output_type": "stream",
     "text": [
      "Help on function generate_pure_tone in module submitted:\n",
      "\n",
      "generate_pure_tone(frequency, sample_rate, duration)\n",
      "    Generate a pure tone at the specified frequency, sampling rate, and duration.\n",
      "    \n",
      "    @parameter:\n",
      "    frequency (scalar) - the frequency of the pure tone, in Hertz\n",
      "    sample_rate (scalar) - how many samples per second?\n",
      "    duration (scalar) - the duration of the pure tone, in seconds\n",
      "    \n",
      "    @return:\n",
      "    x (array) - the pure tone signal\n",
      "\n"
     ]
    }
   ],
   "source": [
    "help(submitted.generate_pure_tone)"
   ]
  },
  {
   "cell_type": "markdown",
   "id": "cf713baf",
   "metadata": {},
   "source": [
    "As you can see, this function generates a pure tone, and returns it.  Let's create a pure tone at a frequency of 440Hz (which Wikipedia calls the <a href=\"https://en.wikipedia.org/wiki/A440_(pitch_standard)\">Stuttgart tone standard</a>), with a duration of 0.5 seconds, and with 44100 samples per second:"
   ]
  },
  {
   "cell_type": "code",
   "execution_count": 5,
   "id": "9da4ec5b",
   "metadata": {},
   "outputs": [],
   "source": [
    "importlib.reload(submitted)\n",
    "x = submitted.generate_pure_tone(440, 44100, 0.5)"
   ]
  },
  {
   "cell_type": "markdown",
   "id": "c7b354ba",
   "metadata": {},
   "source": [
    "In order to play it, we want to use a package called <a href=\"http://ipython.org/ipython-doc/stable/api/generated/IPython.display.html#IPython.display.Audio\">IPython</a>:"
   ]
  },
  {
   "cell_type": "code",
   "execution_count": 6,
   "id": "b4e9170e",
   "metadata": {},
   "outputs": [
    {
     "data": {
      "text/html": [
       "\n",
       "                <audio  controls=\"controls\" >\n",
       "                    <source src=\"data:audio/wav;base64,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\" type=\"audio/wav\" />\n",
       "                    Your browser does not support the audio element.\n",
       "                </audio>\n",
       "              "
      ],
      "text/plain": [
       "<IPython.lib.display.Audio object>"
      ]
     },
     "execution_count": 6,
     "metadata": {},
     "output_type": "execute_result"
    }
   ],
   "source": [
    "import IPython\n",
    "IPython.display.Audio(data=x, rate=44100)"
   ]
  },
  {
   "cell_type": "markdown",
   "id": "99eae063",
   "metadata": {},
   "source": [
    "<a id='section4'></a>"
   ]
  },
  {
   "cell_type": "markdown",
   "id": "afc65f5e",
   "metadata": {},
   "source": [
    "## 4. Gradescope\n"
   ]
  },
  {
   "cell_type": "markdown",
   "id": "4f4342ba",
   "metadata": {},
   "source": [
    "Homework for this course will be submitted at https://gradescope.com.\n",
    "\n",
    "1. Go to https://gradescope.com, and create an account for yourself.  **Very important:** since my main affiliation is `University of Illinois (Urbana-Champaign)`, you will need to also create an account at `University of Illinois (Urbana-Champaign)`.  Otherwise you will not be able to see this course.\n",
    "\n",
    "1. Now choose the button from the lower left that says `Enroll in Course`, and enter the following course entry code: `V5RGWY`.  You should see a course called `Speech Understanding`.  Add it."
   ]
  },
  {
   "cell_type": "markdown",
   "id": "f2e50318",
   "metadata": {},
   "source": [
    "<a id='homework'></a>"
   ]
  },
  {
   "cell_type": "markdown",
   "id": "4e6b32d4",
   "metadata": {},
   "source": [
    "## Homework 1"
   ]
  },
  {
   "cell_type": "markdown",
   "id": "7a9eeaa5",
   "metadata": {},
   "source": [
    "Homework will be autograded on Gradescope.\n",
    "\n",
    "For this week, your homework assignment is simple: you just need to upload the file `submitted.py.`\n",
    "\n",
    "* On Gradescope, find the homework assignment `hw01`.  Click on it.\n",
    "* Click on `submit`, then navigate on your machine to the file `submitted.py`, and submit it.\n",
    "* If you have done this correctly, you should get 100 percent.  If not, let me know."
   ]
  },
  {
   "cell_type": "code",
   "execution_count": null,
   "id": "adc8e30c",
   "metadata": {},
   "outputs": [],
   "source": []
  }
 ],
 "metadata": {
  "kernelspec": {
   "display_name": "Python 3 (ipykernel)",
   "language": "python",
   "name": "python3"
  },
  "language_info": {
   "codemirror_mode": {
    "name": "ipython",
    "version": 3
   },
   "file_extension": ".py",
   "mimetype": "text/x-python",
   "name": "python",
   "nbconvert_exporter": "python",
   "pygments_lexer": "ipython3",
   "version": "3.10.9"
  }
 },
 "nbformat": 4,
 "nbformat_minor": 5
}
